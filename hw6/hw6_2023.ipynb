{
 "cells": [
  {
   "cell_type": "markdown",
   "id": "eb459a25-a4dd-415c-ba1f-ad86a4367214",
   "metadata": {
    "nbgrader": {
     "grade": false,
     "grade_id": "cell-06d3e5bf55c941ae",
     "locked": true,
     "schema_version": 3,
     "solution": false,
     "task": false
    },
    "tags": []
   },
   "source": [
    "# Homework set 6"
   ]
  },
  {
   "cell_type": "markdown",
   "id": "abe8d273-e303-413d-9abc-3fc0ccfa3595",
   "metadata": {
    "nbgrader": {
     "grade": false,
     "grade_id": "cell-736ff6bc3e0d0696",
     "locked": true,
     "schema_version": 3,
     "solution": false,
     "task": false
    }
   },
   "source": [
    "Before you turn this problem in, make sure everything runs as expected (in the menubar, select Kernel → Restart Kernel and Run All Cells...).\n",
    "\n",
    "Please **submit this Jupyter notebook through Canvas** no later than **Mon Dec. 11, 9:00**. **Submit the notebook file with your answers (as .ipynb file) and a pdf printout. The pdf version can be used by the teachers to provide feedback. A pdf version can be made using the save and export option in the Jupyter Lab file menu.**\n",
    "\n",
    "Homework is in **groups of two**, and you are expected to hand in original work. Work that is copied from another group will not be accepted."
   ]
  },
  {
   "cell_type": "markdown",
   "id": "923083fc-e388-4eb6-8b57-3f256593d94e",
   "metadata": {
    "nbgrader": {
     "grade": false,
     "grade_id": "cell-b13bc5ed16bce8e0",
     "locked": true,
     "schema_version": 3,
     "solution": false,
     "task": false
    }
   },
   "source": [
    "# Exercise 0\n",
    "Write down the names + student ID of the people in your group."
   ]
  },
  {
   "cell_type": "markdown",
   "id": "0c690c6a",
   "metadata": {},
   "source": [
    "Zijian Zhang, 14851598\n",
    "\n",
    "Lina Xiang, 14764369"
   ]
  },
  {
   "cell_type": "markdown",
   "id": "cf801bfc-3576-4853-8c5f-3f1f5d2a88c4",
   "metadata": {},
   "source": [
    "# About imports\n",
    "Please import the needed packages by yourself."
   ]
  },
  {
   "cell_type": "code",
   "execution_count": 1,
   "id": "9edd6565",
   "metadata": {},
   "outputs": [],
   "source": [
    "import numpy as np\n"
   ]
  },
  {
   "cell_type": "markdown",
   "id": "ea5293e8-b5f4-42fa-a94d-b764aec592da",
   "metadata": {},
   "source": [
    "# Exercise 1\n",
    "N.B.1 tentative points for each part are: 2+1.5+2+2+1.5 (and one point for free gives 10).\n",
    "\n",
    "N.B.2 you are to implement the methods yourself.\n",
    "\n",
    "Given a function $f$, let $T(f,a,b,m)$ denote the composite trapezoid rule with $m$ subintervals over the interval $[a,b]$. \n",
    "## (a)\n",
    "Approximate the integral of $x^{-3}$ over $[a,b] = [ \\frac{1}{10}, 100 ]$ by the composite trapezoid rule $T(f,a,b,m)$ for $m = 2^k$. Find the smallest $k$ such that the exact error is less than $\\epsilon = 10^{-3}$. Explain the slow convergence."
   ]
  },
  {
   "cell_type": "code",
   "execution_count": 2,
   "id": "56024d22-5826-469f-b9a0-2b83b8eeed17",
   "metadata": {},
   "outputs": [
    {
     "name": "stdout",
     "output_type": "stream",
     "text": [
      "The smallest k such that the exact error is less than 0.001 is: 18\n",
      "When k = 18, exact error = 0.00036306889090553796\n"
     ]
    }
   ],
   "source": [
    "def T(f, a, b, m):\n",
    "    h = (b - a) / m  # length of subintervals\n",
    "    xs = [a + i * h for i in range(1, m)]  # inner points\n",
    "    Tf = sum(f(x) for x in xs) + f(a) / 2 + f(b) / 2\n",
    "    return Tf * h\n",
    "\n",
    "# Set function, interval, and error tolerance\n",
    "f = lambda x: x**-3\n",
    "a, b = 1 / 10, 100.\n",
    "epsilon = 1e-3\n",
    "\n",
    "# Compute exact value\n",
    "int_f = lambda x: -1 / (2 * x**2)\n",
    "exact_integral = int_f(b) - int_f(a)\n",
    "\n",
    "# Find smallest k such that |error| < epsilon\n",
    "for k in range(100):\n",
    "    m = 2**k\n",
    "    exact_error = np.abs(exact_integral - T(f, a, b, m))\n",
    "    if exact_error < epsilon:\n",
    "        print(f'The smallest k such that the exact error is less than 0.001 is: {k}')\n",
    "        print(f'When k = {k}, exact error = {exact_error}')\n",
    "        break"
   ]
  },
  {
   "cell_type": "markdown",
   "id": "2518a158-2ab1-412e-bb0c-fe57d53dc6e0",
   "metadata": {},
   "source": [
    "#### **Answer:**\n",
    "The slow convergence of the composite trapezoid rule in approximating the integral of $f(x) = x^{-3}$ over the interval $[ \\frac{1}{10}, 100 ]$ is due to the function's nature and the trapezoid rule's characteristics. The function $f(x) = x^{-3}$ has a singularity at $x = 0$. Although this point is outside the integration interval, it is close to the lower limit $a = \\frac{1}{10}$. Near this singularity, the function changes rapidly, challenging any numerical integration method relying on discrete sampling points. The trapezoid rule, which approximates the area under a curve by dividing the interval into subintervals with linear segments, struggles with functions exhibiting significant curvature or rapid changes over small intervals. Moreover, the trapezoid rule's error is proportional to the function's second derivative, which for $f(x) = x^{-3}$ becomes large as $x$ approaches zero. This leads to a substantial error near the lower limit, contributing significantly to the overall error. Increasing the number of subintervals ($m$) uniformly doesn't efficiently reduce the error, as only additional subintervals near the lower limit significantly impact it, resulting in slow convergence."
   ]
  },
  {
   "cell_type": "markdown",
   "id": "da3608cd-207d-4679-8fd1-5ee7611d3929",
   "metadata": {
    "tags": []
   },
   "source": [
    "## (b)\n",
    "\n",
    "To improve the convergence rate of the above problem, we may use an adaptive strategy, as discussed in the book and the lecture. Consider the following formulas for approximate integration\n",
    "$$\\begin{aligned}\n",
    "I_1(f,a,b) = {}& T(f,a,b,1) \\\\\n",
    "I_2(f,a,b) = {}& T(f,a,b,2) .\n",
    "\\end{aligned}$$\n",
    "Show, based on the error estimates for the trapezoid rule using the Taylor series (book example 8.2) that the error in $I_2$ can be estimated by a formula of the form \n",
    "$$E_2 = C (I_1 - I_2)$$\n",
    "and determine the constant $C$ (if you can't find $C$, you may take $C = 0.5$)."
   ]
  },
  {
   "cell_type": "markdown",
   "id": "06fd85c0-225e-497d-bab7-4104add465ca",
   "metadata": {},
   "source": [
    "#### **Answer:**\n",
    "Based on the derivation in the textbook, we have known that:\n",
    "$$\n",
    "\\begin{align}\n",
    "I(f) = \\int_a^b f(x)\\mathrm{d}x &= f(c)(b-a) + \\frac{f''(c)}{24}(b-a)^3 + \\cdots \\notag \\\\\n",
    "&= M(f) + E(f) + \\cdots, \\tag{1}\n",
    "\\end{align}\n",
    "$$\n",
    "and\n",
    "$$\n",
    "\\begin{equation}\n",
    "I_1 = M(f) + 3E(f) + \\cdots, \\tag{2}\n",
    "\\end{equation}\n",
    "$$\n",
    "where $c=\\frac{a+b}{2}$ represents the midpoint of $a$ and $b$, $M(f)$ represents the midpoint rule, and $E(f)$ represents the first term in the error expansion for the midpoint rule.\n",
    "\n",
    "Now we perform a Taylor expansion of the function $f(x)$ at the point $c$ and substitute $x=a$ and $x=b$ into the Taylor series:\n",
    "$$\n",
    "\\begin{align}\n",
    "f(a) &= f(c) + f'(c)(a-c) + \\frac{f''(c)}{2}(a-c)^2 + \\cdots \\tag{3} \\\\\n",
    "f(b) &= f(c) + f'(c)(b-c) + \\frac{f''(c)}{2}(b-c)^2 + \\cdots \\tag{4}.\n",
    "\\end{align}\n",
    "$$\n",
    "Substitute equations (3) and (4) into the expression for $I_2$:\n",
    "$$\n",
    "\\begin{equation}\n",
    "I_2 = \\frac{f(a)+2f(c)+f(b)}{4}(b-a), \\tag{5}\n",
    "\\end{equation}\n",
    "$$\n",
    "and get:\n",
    "$$\n",
    "\\begin{align}\n",
    "I_2 &= f(c)(b-a) + \\frac{f''(c)}{16}(b-a)^3 + \\cdots \\notag \\\\\n",
    "&= M(f) + \\frac{3}{2}E(f) + \\cdots. \\tag{6}\n",
    "\\end{align}\n",
    "$$\n",
    "\n",
    "Joining equation (1) with (2) and (6), we get:\n",
    "$$\n",
    "\\begin{equation}\n",
    "E_2 = I(f) - I_2 = -\\frac{1}{2}E(f) + \\cdots \\tag{7},\n",
    "\\end{equation}\n",
    "$$\n",
    "and\n",
    "$$\n",
    "\\begin{equation}\n",
    "I_1 - I_2 = \\frac{3}{2}E(f) + \\cdots. \\tag{8}\n",
    "\\end{equation}\n",
    "$$\n",
    "\n",
    "So we have:\n",
    "$$\n",
    "\\begin{equation}\n",
    "C = \\frac{E_2}{I_1-I_2} \\approx -\\frac{1}{3}. \\tag{9}\n",
    "\\end{equation}\n",
    "$$"
   ]
  },
  {
   "cell_type": "markdown",
   "id": "6979c60b-8ecd-45bd-8b88-acecfdd03940",
   "metadata": {},
   "source": [
    "## (c)\n",
    "An adaptive strategy for computing the integral on an interval $[a,b]$ now is: Compute $I_2$ and $E_2$, and accept $I_2$ as an approximation when the estimated error $E_2$ is less or equal than a desired tolerance $\\epsilon$.  Otherwise, apply the procedure to \n",
    "$\\int_a^{\\frac{b+a}{2}} f(x) \\, dx$ and $\\int_{\\frac{b+a}{2}}^b f(x) \\, dx$ with tolerances $\\frac{\\epsilon}{2}$.\n",
    "\n",
    "Write a recursive python routine that implements the adaptive strategy.\n",
    "\n",
    "Then apply this routine to the function $x^{-3}$ with $a, b, \\epsilon$ as before. What is the exact error in the obtained approximation? "
   ]
  },
  {
   "cell_type": "code",
   "execution_count": 3,
   "id": "8f66a8b2-02e4-4ab0-9801-709b3d6d085f",
   "metadata": {},
   "outputs": [
    {
     "name": "stdout",
     "output_type": "stream",
     "text": [
      "Approximate integral: 50.00014849011892\n",
      "Exact integral: 49.99994999999999\n",
      "Exact error: 0.0001984901189260313\n"
     ]
    }
   ],
   "source": [
    "def adaptive_trapezoid(f, a, b, epsilon):\n",
    "    I1 = T(f, a, b, 1)\n",
    "    I2 = T(f, a, b, 2)\n",
    "    E2 = (I2 - I1) / 3  # C = -1/3\n",
    "\n",
    "    if np.abs(E2) <= epsilon:\n",
    "        return I2\n",
    "    else:\n",
    "        mid = (a + b) / 2\n",
    "        left_integral = adaptive_trapezoid(f, a, mid, epsilon / 2)\n",
    "        right_integral = adaptive_trapezoid(f, mid, b, epsilon / 2)\n",
    "        return left_integral + right_integral\n",
    "\n",
    "\n",
    "# Compute the integral using the adaptive strategy\n",
    "approx_integral = adaptive_trapezoid(f, a, b, epsilon)\n",
    "\n",
    "# Calculate the exact error\n",
    "exact_error = abs(exact_integral - approx_integral)\n",
    "print(f'Approximate integral: {approx_integral}')\n",
    "print(f'Exact integral: {exact_integral}')\n",
    "print(f'Exact error: {exact_error}')\n"
   ]
  },
  {
   "cell_type": "markdown",
   "id": "38054a2a-24b4-4467-8dad-4ad193400213",
   "metadata": {},
   "source": [
    "## (d)\n",
    "Modify the code of (c) so that the number of function evaluations is counted and that no unnecessary function evaluations are performed. Compare the number of function evaluations used in the adaptive strategy of (c) with the result of (a). \n",
    "(*Hint*: To count the number of function evaluations, you may use a global variable that is incremented by the function each time it is called.)"
   ]
  },
  {
   "cell_type": "code",
   "execution_count": 4,
   "id": "ed67a5aa-dba3-4da9-bb32-6f2a49096b30",
   "metadata": {},
   "outputs": [
    {
     "name": "stdout",
     "output_type": "stream",
     "text": [
      "In part (a), the theoretical number of function evaluations is: 524306\n",
      "In part (a), the actual number of function evaluations is: 524306\n",
      "In part (c), the number of function evaluations is: 9671\n"
     ]
    }
   ],
   "source": [
    "# Global variable to count function evaluations\n",
    "function_evaluations = 0\n",
    "\n",
    "def new_f(x):\n",
    "    global function_evaluations\n",
    "    function_evaluations += 1\n",
    "    return x**-3\n",
    "\n",
    "def new_adaptive_trapezoid(f, a, b, fa, fb, epsilon):\n",
    "    # Midpoint and function evaluation at midpoint\n",
    "    mid = (a + b) / 2\n",
    "    fmid = new_f(mid)\n",
    "    \n",
    "    # Trapezoid rule for one and two intervals\n",
    "    I1 = (b - a) * (fa + fb) / 2\n",
    "    I2 = (b - a) * (fa + 2 * fmid + fb) / 4\n",
    "    E2 = (I2 - I1) / 3  # C = -1/3\n",
    "\n",
    "    if np.abs(E2) <= epsilon:\n",
    "        return I2\n",
    "    else:\n",
    "        left_integral = new_adaptive_trapezoid(new_f, a, mid, fa, fmid, epsilon / 2)\n",
    "        right_integral = new_adaptive_trapezoid(new_f, mid, b, fmid, fb, epsilon / 2)\n",
    "        return left_integral + right_integral\n",
    "\n",
    "# Initial function evaluations at the endpoints\n",
    "fa = new_f(a)\n",
    "fb = new_f(b)\n",
    "\n",
    "# Compute the integral using the adaptive strategy\n",
    "approx_integral = new_adaptive_trapezoid(new_f, a, b, fa, fb, epsilon)\n",
    "function_evaluations_c = function_evaluations\n",
    "\n",
    "# Count the number of evaluations in part (a)\n",
    "function_evaluations = 0\n",
    "theoretical_function_evaluations = 0\n",
    "for i in range(k+1):\n",
    "    m = 2**i\n",
    "    theoretical_function_evaluations += m + 1\n",
    "    T(new_f, a, b, m)\n",
    "\n",
    "# Compare the number of evaluations in part (a) and (c)\n",
    "print(f'In part (a), the theoretical number of function evaluations is: {function_evaluations}')\n",
    "print(f'In part (a), the actual number of function evaluations is: {theoretical_function_evaluations}')\n",
    "print(f'In part (c), the number of function evaluations is: {function_evaluations_c}')"
   ]
  },
  {
   "cell_type": "markdown",
   "id": "280bce8f-5bb7-4900-9813-6b29149dd011",
   "metadata": {},
   "source": [
    "#### **Answer:**\n",
    "In part (a), the theoretical number of function evaluations is $\\sum_{k=0}^{18}(2^k+1) = 524306$. Using the modified function, we observe that the actual count of function evaluations in part (a) is 524306, matching the theoretical prediction.\n",
    "\n",
    "After modifying the code in part (c) to avoid unnecessary function evaluations, the number of evaluations in the adaptive strategy is 9671. This is significantly lower than the 524306 evaluations used in part (a), clearly demonstrating the efficiency of the adaptive strategy in accelerating convergence."
   ]
  },
  {
   "cell_type": "markdown",
   "id": "5d3709eb-4f5e-493a-865f-31f31510ea5e",
   "metadata": {},
   "source": [
    "## (e)\n",
    "In the course of executing the recursive procedure, some subintervals are refined (split in two subintervals) while others aren't as a result of the choices made by the algorithm. It turns out that the choices made by this algorithm are not always optimal. Other algorithms, that decide in a different way which subinterval needs to be refined, may be more efficient in the sense that they require less function evaluations (while using the same formulas for the approximate integral and the approximate error associated with a subinterval).\n",
    "\n",
    "Can you explain why this is the case? Discuss briefly possible alternative approaches.\n"
   ]
  },
  {
   "cell_type": "markdown",
   "id": "4384b2a4-1738-440c-bc1a-9531dca3e126",
   "metadata": {},
   "source": [
    "#### **Answer:**\n",
    "**Explanation:**\n",
    "\n",
    "Many functions display varying behaviors across their domain, including regions of rapid change and others with relative flatness. Different algorithms use different methods to decide which subinterval needs to be refined. The method currently in use determines whether further subdivision is required based on the local error estimates for each subinterval. If the estimated error of an interval exceeds a predetermined threshold, the interval is divided into smaller subintervals. More accurate error estimation algorithms can guide the subdivision of intervals more efficiently and reduce unnecessary calculations.\n",
    "\n",
    "**Possible alternative approaches:**\n",
    "* Heuristics: This method is based on knowledge of the behaviour of a particular type of function. For example, if it is known that the function exhibits extreme behaviour around certain specific points or regions (e.g. singularities, discontinuities), the algorithm can preferentially subdivide the subintervals closest to these regions.\n",
    "\n",
    "* Derivative-based strategy: In this approach, the rate of change of a function is determined by calculating the derivative or gradient of the function over an interval. A large change in the derivative value within an interval means that the function is changing drastically within that interval, so a finer segmentation may be needed to capture this change.\n",
    "\n",
    "* Error propagation analysis: By analysing how the overall integration error varies with subinterval division, a more optimal interval subdivision strategy can be developed. For example, if the subdivision of certain intervals contributes less to the overall error reduction, one may choose not to subdivide these intervals further."
   ]
  }
 ],
 "metadata": {
  "kernelspec": {
   "display_name": "Python 3 (ipykernel)",
   "language": "python",
   "name": "python3"
  },
  "language_info": {
   "codemirror_mode": {
    "name": "ipython",
    "version": 3
   },
   "file_extension": ".py",
   "mimetype": "text/x-python",
   "name": "python",
   "nbconvert_exporter": "python",
   "pygments_lexer": "ipython3",
   "version": "3.10.9"
  }
 },
 "nbformat": 4,
 "nbformat_minor": 5
}
