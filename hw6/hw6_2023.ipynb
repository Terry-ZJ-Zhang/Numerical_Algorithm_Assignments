{
 "cells": [
  {
   "cell_type": "markdown",
   "id": "eb459a25-a4dd-415c-ba1f-ad86a4367214",
   "metadata": {
    "nbgrader": {
     "grade": false,
     "grade_id": "cell-06d3e5bf55c941ae",
     "locked": true,
     "schema_version": 3,
     "solution": false,
     "task": false
    },
    "tags": []
   },
   "source": [
    "# Homework set 6"
   ]
  },
  {
   "cell_type": "markdown",
   "id": "abe8d273-e303-413d-9abc-3fc0ccfa3595",
   "metadata": {
    "nbgrader": {
     "grade": false,
     "grade_id": "cell-736ff6bc3e0d0696",
     "locked": true,
     "schema_version": 3,
     "solution": false,
     "task": false
    }
   },
   "source": [
    "Before you turn this problem in, make sure everything runs as expected (in the menubar, select Kernel → Restart Kernel and Run All Cells...).\n",
    "\n",
    "Please **submit this Jupyter notebook through Canvas** no later than **Mon Dec. 11, 9:00**. **Submit the notebook file with your answers (as .ipynb file) and a pdf printout. The pdf version can be used by the teachers to provide feedback. A pdf version can be made using the save and export option in the Jupyter Lab file menu.**\n",
    "\n",
    "Homework is in **groups of two**, and you are expected to hand in original work. Work that is copied from another group will not be accepted."
   ]
  },
  {
   "cell_type": "markdown",
   "id": "923083fc-e388-4eb6-8b57-3f256593d94e",
   "metadata": {
    "nbgrader": {
     "grade": false,
     "grade_id": "cell-b13bc5ed16bce8e0",
     "locked": true,
     "schema_version": 3,
     "solution": false,
     "task": false
    }
   },
   "source": [
    "# Exercise 0\n",
    "Write down the names + student ID of the people in your group."
   ]
  },
  {
   "cell_type": "markdown",
   "id": "0c690c6a",
   "metadata": {},
   "source": [
    "Zijian Zhang, 14851598\n",
    "\n",
    "Lina Xiang, 14764369"
   ]
  },
  {
   "cell_type": "markdown",
   "id": "cf801bfc-3576-4853-8c5f-3f1f5d2a88c4",
   "metadata": {},
   "source": [
    "# About imports\n",
    "Please import the needed packages by yourself."
   ]
  },
  {
   "cell_type": "code",
   "execution_count": 1,
   "id": "9edd6565",
   "metadata": {},
   "outputs": [],
   "source": [
    "import numpy as np\n"
   ]
  },
  {
   "cell_type": "markdown",
   "id": "ea5293e8-b5f4-42fa-a94d-b764aec592da",
   "metadata": {},
   "source": [
    "# Exercise 1\n",
    "N.B.1 tentative points for each part are: 2+1.5+2+2+1.5 (and one point for free gives 10).\n",
    "\n",
    "N.B.2 you are to implement the methods yourself.\n",
    "\n",
    "Given a function $f$, let $T(f,a,b,m)$ denote the composite trapezoid rule with $m$ subintervals over the interval $[a,b]$. \n",
    "## (a)\n",
    "Approximate the integral of $x^{-3}$ over $[a,b] = [ \\frac{1}{10}, 100 ]$ by the composite trapezoid rule $T(f,a,b,m)$ for $m = 2^k$. Find the smallest $k$ such that the exact error is less than $\\epsilon = 10^{-3}$. Explain the slow convergence."
   ]
  },
  {
   "cell_type": "code",
   "execution_count": 2,
   "id": "56024d22-5826-469f-b9a0-2b83b8eeed17",
   "metadata": {},
   "outputs": [
    {
     "name": "stdout",
     "output_type": "stream",
     "text": [
      "k = 18\n",
      "Exact error = 0.00036306889090553796\n"
     ]
    }
   ],
   "source": [
    "def T(f, a, b, m):\n",
    "    h = (b - a) / m  # length of subintervals\n",
    "    xs = [a + i * h for i in range(1, m)]  # inner points\n",
    "    Tf = sum(f(x) for x in xs) + f(a) / 2 + f(b) / 2\n",
    "    return Tf * h\n",
    "\n",
    "\n",
    "f = lambda x: x**-3\n",
    "int_f = lambda x: -x**-2 / 2\n",
    "a, b = 1 / 10, 100.\n",
    "exact_value = int_f(b) - int_f(a)\n",
    "epsilon = 1e-3\n",
    "for k in range(100):\n",
    "    m = 2**k\n",
    "    exact_error = T(f, a, b, m) - exact_value\n",
    "    if np.abs(exact_error) < epsilon:\n",
    "        print(f'k = {k}')\n",
    "        print(f'Exact error = {exact_error}')\n",
    "        break"
   ]
  },
  {
   "cell_type": "markdown",
   "id": "2518a158-2ab1-412e-bb0c-fe57d53dc6e0",
   "metadata": {},
   "source": [
    "#### **Answer:**\n",
    "The slow convergence of the composite trapezoid rule in approximating the integral of \\( f(x) = x^{-3} \\) over the interval \\([ \\frac{1}{10}, 100 ]\\) is primarily due to the nature of the function and the characteristics of the trapezoid rule itself. The function \\( f(x) = x^{-3} \\) has a singularity at \\( x = 0 \\), and although this point is not within the integration interval, it's very close to the lower limit \\( a = \\frac{1}{10} \\). Near this singularity, the function's values change rapidly, posing a challenge for any numerical integration method that samples the function at discrete points. The trapezoid rule, which approximates the area under a curve by dividing the interval into subintervals and using linear approximations, struggles with functions that exhibit significant curvature or rapid changes in a small interval. Furthermore, the error in the trapezoid rule is proportional to the second derivative of the function, which in the case of \\( f(x) = x^{-3} \\) becomes very large as \\( x \\) approaches zero. This results in a larger error near the lower limit, requiring a greater number of subintervals to achieve a desired accuracy. Additionally, the non-uniformity of the function across the interval, with values decreasing rapidly as \\( x \\) increases, further complicates the approximation, as the simple linear approach of the trapezoid rule is less effective in capturing the function's behavior, especially near the lower limit where the function values change more drastically.\n"
   ]
  },
  {
   "cell_type": "markdown",
   "id": "da3608cd-207d-4679-8fd1-5ee7611d3929",
   "metadata": {
    "tags": []
   },
   "source": [
    "## (b)\n",
    "\n",
    "To improve the convergence rate of the above problem, we may use an adaptive strategy, as discussed in the book and the lecture. Consider the following formulas for approximate integration\n",
    "$$\\begin{aligned}\n",
    "I_1(f,a,b) = {}& T(f,a,b,1) \\\\\n",
    "I_2(f,a,b) = {}& T(f,a,b,2) .\n",
    "\\end{aligned}$$\n",
    "Show, based on the error estimates for the trapezoid rule using the Taylor series (book example 8.2) that the error in $I_2$ can be estimated by a formula of the form \n",
    "$$E_2 = C (I_1 - I_2)$$\n",
    "and determine the constant $C$ (if you can't find $C$, you may take $C = 0.5$)."
   ]
  },
  {
   "cell_type": "markdown",
   "id": "06fd85c0-225e-497d-bab7-4104add465ca",
   "metadata": {},
   "source": [
    "#### **Answer:**"
   ]
  },
  {
   "cell_type": "markdown",
   "id": "6979c60b-8ecd-45bd-8b88-acecfdd03940",
   "metadata": {},
   "source": [
    "## (c)\n",
    "An adaptive strategy for computing the integral on an interval $[a,b]$ now is: Compute $I_2$ and $E_2$, and accept $I_2$ as an approximation when the estimated error $E_2$ is less or equal than a desired tolerance $\\epsilon$.  Otherwise, apply the procedure to \n",
    "$\\int_a^{\\frac{b+a}{2}} f(x) \\, dx$ and $\\int_{\\frac{b+a}{2}}^b f(x) \\, dx$ with tolerances $\\frac{\\epsilon}{2}$.\n",
    "\n",
    "Write a recursive python routine that implements the adaptive strategy.\n",
    "\n",
    "Then apply this routine to the function $x^{-3}$ with $a, b, \\epsilon$ as before. What is the exact error in the obtained approximation? "
   ]
  },
  {
   "cell_type": "code",
   "execution_count": 3,
   "id": "8f66a8b2-02e4-4ab0-9801-709b3d6d085f",
   "metadata": {},
   "outputs": [
    {
     "name": "stdout",
     "output_type": "stream",
     "text": [
      "Approximate integral: -0.01893963509394296\n",
      "Exact integral: 49.99994999999999\n",
      "Exact error: 50.018889635093934\n"
     ]
    }
   ],
   "source": [
    "def adaptive_trapezoid(f, a, b, epsilon):\n",
    "    def T(f, a, b, m):\n",
    "        h = (b - a) / m\n",
    "        return h * (f(a) / 2 + sum(f(a + i * h) for i in range(1, m)) + f(b) / 2)\n",
    "\n",
    "    I1 = T(f, a, b, 1)\n",
    "    I2 = T(f, a, b, 2)\n",
    "    E2 = (I1 - I2) / 3  # Using C = 1/3 based on error analysis\n",
    "\n",
    "    if abs(E2) <= epsilon:\n",
    "        return I2\n",
    "    else:\n",
    "        mid = (a + b) / 2\n",
    "        left_integral = adaptive_trapezoid(f, a, mid, epsilon / 2)\n",
    "        right_integral = adaptive_trapezoid(f, b, mid, epsilon / 2)\n",
    "        return left_integral + right_integral\n",
    "\n",
    "# Function and parameters\n",
    "f = lambda x: x**-3\n",
    "a, b = 1 / 10, 100.\n",
    "epsilon = 1e-3\n",
    "\n",
    "# Compute the integral using the adaptive strategy\n",
    "approx_integral = adaptive_trapezoid(f, a, b, epsilon)\n",
    "\n",
    "# Compute the exact integral for comparison\n",
    "int_f = lambda x: -1 / (2 * x**2)\n",
    "exact_integral = int_f(b) - int_f(a)\n",
    "\n",
    "# Calculate the exact error\n",
    "exact_error = abs(exact_integral - approx_integral)\n",
    "print(f'Approximate integral: {approx_integral}')\n",
    "print(f'Exact integral: {exact_integral}')\n",
    "print(f'Exact error: {exact_error}')\n"
   ]
  },
  {
   "cell_type": "markdown",
   "id": "38054a2a-24b4-4467-8dad-4ad193400213",
   "metadata": {},
   "source": [
    "## (d)\n",
    "Modify the code of (c) so that the number of function evaluations is counted and that no unnecessary function evaluations are performed. Compare the number of function evaluations used in the adaptive strategy of (c) with the result of (a). \n",
    "(*Hint*: To count the number of function evaluations, you may use a global variable that is incremented by the function each time it is called.)"
   ]
  },
  {
   "cell_type": "code",
   "execution_count": 4,
   "id": "ed67a5aa-dba3-4da9-bb32-6f2a49096b30",
   "metadata": {},
   "outputs": [
    {
     "name": "stdout",
     "output_type": "stream",
     "text": [
      "Approximate integral: 50.00014849011892\n",
      "Number of function evaluations: 9669\n",
      "In part (a), for m = 2^14, the number of evaluations would be: 16385\n"
     ]
    }
   ],
   "source": [
    "# Global variable to count function evaluations\n",
    "function_evaluations = 0\n",
    "\n",
    "def f(x):\n",
    "    global function_evaluations\n",
    "    function_evaluations += 1\n",
    "    return x**-3\n",
    "\n",
    "def adaptive_trapezoid(f, a, b, fa, fb, epsilon):\n",
    "    global function_evaluations\n",
    "\n",
    "    # Midpoint and function evaluation at midpoint\n",
    "    mid = (a + b) / 2\n",
    "    fmid = f(mid)\n",
    "    \n",
    "    # Trapezoid rule for one and two intervals\n",
    "    I1 = (b - a) * (fa + fb) / 2\n",
    "    I2 = (b - a) * (fa + 2 * fmid + fb) / 4\n",
    "    E2 = (I1 - I2) / 3  # Using C = 1/3 based on error analysis\n",
    "\n",
    "    if abs(E2) <= epsilon:\n",
    "        return I2\n",
    "    else:\n",
    "        left_integral = adaptive_trapezoid(f, a, mid, fa, fmid, epsilon / 2)\n",
    "        right_integral = adaptive_trapezoid(f, mid, b, fmid, fb, epsilon / 2)\n",
    "        return left_integral + right_integral\n",
    "\n",
    "# Initial function evaluations at the endpoints\n",
    "a, b = 1 / 10, 100.\n",
    "fa = f(a)\n",
    "fb = f(b)\n",
    "\n",
    "# Reset the function evaluation counter\n",
    "function_evaluations = 0\n",
    "\n",
    "# Compute the integral using the adaptive strategy\n",
    "epsilon = 1e-3\n",
    "approx_integral = adaptive_trapezoid(f, a, b, fa, fb, epsilon)\n",
    "\n",
    "# Output the results\n",
    "print(f'Approximate integral: {approx_integral}')\n",
    "print(f'Number of function evaluations: {function_evaluations}')\n",
    "\n",
    "# Compare with the number of evaluations in part (a)\n",
    "k = 0\n",
    "while 2**k < function_evaluations:\n",
    "    k += 1\n",
    "print(f'In part (a), for m = 2^{k}, the number of evaluations would be: {2**k + 1}')\n"
   ]
  },
  {
   "cell_type": "markdown",
   "id": "280bce8f-5bb7-4900-9813-6b29149dd011",
   "metadata": {},
   "source": [
    "#### **Answer:**"
   ]
  },
  {
   "cell_type": "markdown",
   "id": "5d3709eb-4f5e-493a-865f-31f31510ea5e",
   "metadata": {},
   "source": [
    "## (e)\n",
    "In the course of executing the recursive procedure, some subintervals are refined (split in two subintervals) while others aren't as a result of the choices made by the algorithm. It turns out that the choices made by this algorithm are not always optimal. Other algorithms, that decide in a different way which subinterval needs to be refined, may be more efficient in the sense that they require less function evaluations (while using the same formulas for the approximate integral and the approximate error associated with a subinterval).\n",
    "\n",
    "Can you explain why this is the case? Discuss briefly possible alternative approaches.\n"
   ]
  },
  {
   "cell_type": "markdown",
   "id": "4384b2a4-1738-440c-bc1a-9531dca3e126",
   "metadata": {},
   "source": [
    "#### **Answer:**"
   ]
  },
  {
   "cell_type": "markdown",
   "metadata": {},
   "source": [
    "The reason why different Strategies May Vary in Efficiency:\n",
    "Non-Uniform Behavior of Functions: Many functions exhibit non-uniform behavior across their domain, with areas of rapid change (like sharp peaks or troughs) and areas of relative flatness. An algorithm that can more accurately identify and target subintervals where the function changes rapidly for refinement will generally be more efficient, as it avoids unnecessary computations in regions where the function is relatively smooth.\n",
    "\n",
    "Error Distribution: The error in numerical integration is not uniformly distributed across the interval. Some regions may contribute significantly more to the total error than others. An optimal algorithm would allocate more computational resources (i.e., function evaluations) to regions contributing most to the error.\n",
    "\n",
    "Alternative Approaches:"
   ]
  }
 ],
 "metadata": {
  "kernelspec": {
   "display_name": "Python 3 (ipykernel)",
   "language": "python",
   "name": "python3"
  },
  "language_info": {
   "codemirror_mode": {
    "name": "ipython",
    "version": 3
   },
   "file_extension": ".py",
   "mimetype": "text/x-python",
   "name": "python",
   "nbconvert_exporter": "python",
   "pygments_lexer": "ipython3",
   "version": "3.11.4"
  }
 },
 "nbformat": 4,
 "nbformat_minor": 5
}
