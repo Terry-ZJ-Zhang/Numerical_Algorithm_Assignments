{
 "cells": [
  {
   "cell_type": "markdown",
   "id": "bca33f70-0324-4594-8998-08352cc65c9d",
   "metadata": {
    "nbgrader": {
     "grade": false,
     "grade_id": "cell-06d3e5bf55c941ae",
     "locked": true,
     "schema_version": 3,
     "solution": false,
     "task": false
    }
   },
   "source": [
    "# Homework set 2"
   ]
  },
  {
   "cell_type": "markdown",
   "id": "a085ff85-5f47-4d16-b0bb-5adf07e3e503",
   "metadata": {
    "nbgrader": {
     "grade": false,
     "grade_id": "cell-736ff6bc3e0d0696",
     "locked": true,
     "schema_version": 3,
     "solution": false,
     "task": false
    }
   },
   "source": [
    "Please **submit this Jupyter notebook through Canvas** no later than **Mon Nov. 13, 9:00**. **Submit the notebook file with your answers (as .ipynb file) and a pdf printout. The pdf version can be used by the teachers to provide feedback. A pdf version can be made using the save and export option in the Jupyter Lab file menu.**\n",
    "\n",
    "Homework is in **groups of two**, and you are expected to hand in original work. Work that is copied from another group will not be accepted."
   ]
  },
  {
   "cell_type": "markdown",
   "id": "bfc44ed9-3b17-4f38-94fe-0f4d709ed1d6",
   "metadata": {
    "nbgrader": {
     "grade": false,
     "grade_id": "cell-b13bc5ed16bce8e0",
     "locked": true,
     "schema_version": 3,
     "solution": false,
     "task": false
    }
   },
   "source": [
    "# Exercise 0\n",
    "Write down the names + student ID of the people in your group."
   ]
  },
  {
   "cell_type": "markdown",
   "metadata": {},
   "source": [
    "Zijian Zhang, 14851598\n",
    "\n",
    "Lina Xiang, 14764369"
   ]
  },
  {
   "cell_type": "markdown",
   "id": "71d93788-1857-48f1-bfff-8cf004cf1a5d",
   "metadata": {},
   "source": [
    "## Importing packages\n",
    "Execute the following statement to import the packages `numpy`, `math` and `scipy.sparse`. If additional packages are needed, import them yourself."
   ]
  },
  {
   "cell_type": "code",
   "execution_count": 4,
   "id": "0c56160e-301a-4888-b439-a45bc02b8171",
   "metadata": {},
   "outputs": [],
   "source": [
    "import math\n",
    "import numpy as np\n",
    "import scipy.sparse as sp"
   ]
  },
  {
   "cell_type": "markdown",
   "id": "967cec69-1602-4c3c-9bff-871eabca2c8b",
   "metadata": {
    "tags": []
   },
   "source": [
    "# Sparse matrices"
   ]
  },
  {
   "cell_type": "markdown",
   "id": "651b9158-f983-4dd6-a478-2dd0456961ca",
   "metadata": {},
   "source": [
    "A matrix is called sparse if only a small fraction of the entries is nonzero. For such matrices, special data formats exist. `scipy.sparse` is the scipy package that implements such data formats and provides functionality such as the LU decomposition (in the subpackage `scipy.sparse.linalg`).\n",
    "\n",
    "As an example, we create the matrix \n",
    "$$\\begin{bmatrix} 1 & 0 & 2 & 0\\\\ \n",
    "0 & 3 & 0 & 0 \\\\\n",
    "0 & 0 & 4 & 5 \\\\\n",
    "0 & 0 & 0 & 6 \n",
    "\\end{bmatrix}$$ \n",
    "in the so called compressed sparse row (CSR) format. As you can see, the arrays `row`, `col`, `data` contain the row and column coordinate and the value of each nonzero element respectively."
   ]
  },
  {
   "cell_type": "code",
   "execution_count": 5,
   "id": "d9090c65-724c-4bfc-a19c-85cd7314ca06",
   "metadata": {},
   "outputs": [
    {
     "name": "stdout",
     "output_type": "stream",
     "text": [
      "[[1. 0. 2. 0.]\n",
      " [0. 3. 0. 0.]\n",
      " [0. 0. 4. 5.]\n",
      " [0. 0. 0. 6.]]\n"
     ]
    }
   ],
   "source": [
    "# a sparse matrix with 6 nonzero entries\n",
    "row = np.array([0, 0, 1, 2, 2, 3])\n",
    "col = np.array([0, 2, 1, 2, 3, 3])\n",
    "data = np.array([1.0, 2, 3, 4, 5, 6])\n",
    "sparseA = sp.csr_array((data, (row, col)), shape=(4, 4))\n",
    "\n",
    "# convert to a dense matrix. This allows us to print to screen in regular formatting\n",
    "denseA = sparseA.toarray()\n",
    "print(denseA)\n"
   ]
  },
  {
   "cell_type": "markdown",
   "id": "7bcb2618-8ec2-4cd2-86b3-786946719c20",
   "metadata": {},
   "source": [
    "For sparse matrices, a sparse data format is much more efficient in terms of storage than the standard array format. Because of this efficient storage, very large matrices of size $n \\times n$ with $n = 10^7$ or more can be stored in RAM for performing computations on regular computers. Often the number of nonzero elements per row is quite small, such as 10's or 100's nonzero elements per row. In a regular, dense format, such matrices would require a supercomputer or could not be stored.\n",
    "\n",
    "In the second exercise you have to use the package `scipy.sparse`, please look up the functions you need (or ask during class)."
   ]
  },
  {
   "cell_type": "markdown",
   "id": "485a0788-7ac3-41e5-afbb-2957220c6a2a",
   "metadata": {},
   "source": [
    "# Heath computer exercise 2.1"
   ]
  },
  {
   "cell_type": "markdown",
   "id": "d40e9755-32ad-42e6-bd4a-9066e36cf4f9",
   "metadata": {},
   "source": [
    "## (a)\n",
    "Show that the matrix\n",
    "$$ A = \\begin{bmatrix} \n",
    "0.1 & 0.2 & 0.3 \\\\\n",
    "0.4 & 0.5 & 0.6 \\\\\n",
    "0.7 & 0.8 & 0.9\n",
    "\\end{bmatrix}.$$\n",
    "is singular. Describe the set of solutions to the system $A x = b$ if\n",
    "$$ b = \\begin{bmatrix} 0.1 \\\\ 0.3 \\\\ 0.5 \\end{bmatrix}. $$\n",
    "(N.B. this is a pen-and-paper question.)\n"
   ]
  },
  {
   "cell_type": "markdown",
   "id": "044019bb-6f29-446c-8cf4-a65c7033cf6c",
   "metadata": {},
   "source": [
    "#### **Answer:**\n",
    "The rank of $A$ can be obtained by performing row transformations on A:\n",
    "$$\n",
    "A = \\begin{bmatrix} \n",
    "0.1 & 0.2 & 0.3 \\\\\n",
    "0.4 & 0.5 & 0.6 \\\\\n",
    "0.7 & 0.8 & 0.9\n",
    "\\end{bmatrix}\n",
    "\\rightarrow\n",
    "\\begin{bmatrix}\n",
    "0.1 & 0.2 & 0.3 \\\\\n",
    "0 & -0.3 & -0.6 \\\\\n",
    "0 & -0.6 & -1.2\n",
    "\\end{bmatrix}\n",
    "\\rightarrow\n",
    "\\begin{bmatrix}\n",
    "0.1 & 0.2 & 0.3 \\\\\n",
    "0 & -0.3 & -0.6 \\\\\n",
    "0 & 0 & 0\n",
    "\\end{bmatrix}.\n",
    "$$\n",
    "Therefore, $\\text{rank}(A) = 2 < 3$, which means $A$ is singular.\n",
    "\n",
    "The solution set of the system $Ax=b$ can be obtained by the following steps:\n",
    "$$\n",
    "A|b = \\left[\\begin{array}{ccc|c}\n",
    "0.1 & 0.2 & 0.3 & 0.1\\\\\n",
    "0.4 & 0.5 & 0.6 & 0.3\\\\\n",
    "0.7 & 0.8 & 0.9 & 0.5\n",
    "\\end{array}\\right]\n",
    "\\rightarrow\n",
    "\\left[\\begin{array}{ccc|c}\n",
    "0.1 & 0.2 & 0.3 & 0.1\\\\\n",
    "0 & -0.3 & -0.6 & -0.1\\\\\n",
    "0 & -0.6 & -1.2 & -0.2\n",
    "\\end{array}\\right]\n",
    "\\rightarrow\n",
    "\\left[\\begin{array}{ccc|c}\n",
    "0.1 & 0.2 & 0.3 & 0.1\\\\\n",
    "0 & -0.3 & -0.6 & -0.1\\\\\n",
    "0 & 0 & 0 & 0\n",
    "\\end{array}\\right],\n",
    "$$\n",
    "$$\n",
    "0.1x_1 + 0.2x_2 + 0.3x_3 = 0.1,\\quad\n",
    "-0.3x_2 -0.6x_3 = -0.1.\n",
    "$$\n",
    "Therefore, there are $\\infty$ set of solutions in solving phase. Set $x_1=\\lambda$, then the solutions can be represented as\n",
    "$$\n",
    "\\bm{x}=\n",
    "\\begin{bmatrix}\n",
    "0 \\\\ 1 \\\\ -\\frac{1}{3}\n",
    "\\end{bmatrix}\n",
    "+\n",
    "\\lambda\n",
    "\\begin{bmatrix}\n",
    "1 \\\\ -2 \\\\ 1\n",
    "\\end{bmatrix}.\n",
    "$$"
   ]
  },
  {
   "cell_type": "markdown",
   "id": "14074eea-48d7-49e6-81b1-5fadeaeec111",
   "metadata": {},
   "source": [
    "## (b)\n",
    "If we were to use Gaussian elimination with partial pivoting to solve this system using exact arithmetic, at what point would the process fail?\n"
   ]
  },
  {
   "cell_type": "markdown",
   "id": "05aa07a1-da53-4f43-bad8-8be6c55e0c39",
   "metadata": {},
   "source": [
    "#### **Answer:**\n",
    "The LU factorization still works, and we can obtain the upper triangular system\n",
    "$$\n",
    "\\bm{M_2 P_2 M_1 P_1 Ax}=\n",
    "\\left[\\begin{array}{c}\n",
    "0.7 & 0.8 & 0.9\\\\\n",
    "0 & 3/35 & 6/35\\\\\n",
    "0 & 0 & 0\n",
    "\\end{array}\\right]\n",
    "\\left[\\begin{array}{c}\n",
    "x_1\\\\\n",
    "x_2\\\\\n",
    "x_3\n",
    "\\end{array}\\right]\n",
    "=\n",
    "\\left[\\begin{array}{c}\n",
    "0.5\\\\\n",
    "1/35\\\\\n",
    "0\n",
    "\\end{array}\\right]\n",
    "=\\bm{M_2 P_2 M_1 P_1 b}.\n",
    "$$\n",
    "\n",
    "However, the process would fail in back-substitution due to the 0 on diagonal."
   ]
  },
  {
   "cell_type": "markdown",
   "id": "85c1ae38-f504-47eb-a1d6-eec193e32878",
   "metadata": {},
   "source": [
    "## (c)\n",
    "Because some of the entries of $A$ are not exactly representable in a binary floating point system, the matrix is no longer exactly singular when entered into a computer; thus, solving the system by Gaussian elimination will not necessarily fail. Solve this system on a computer using a library routine for Gaussian elimination. Compare the computed solution with your description of the solution set in part (a). What is the estimated value for $\\text{cond}(A)$? How many digits of accuracy in the solution would this lead you to expect?"
   ]
  },
  {
   "cell_type": "code",
   "execution_count": 93,
   "id": "1d6808a3-aecd-4ebe-aa79-5ddcbff09c17",
   "metadata": {},
   "outputs": [
    {
     "name": "stdout",
     "output_type": "stream",
     "text": [
      "Computed solution: x1=0.06327985739750433, x2=0.8734402852049913, x3=-0.270053475935829\n",
      "Our description: x1=0.06327985739750433, x2=0.8734402852049914, x3=-0.27005347593582896\n",
      "Relative error: x2_rel_error=1.2710920751320664e-16, x3_rel_error=-2.055561441632715e-16\n",
      "cond(A)=2.37588029981422e+16, cond_A=6.830458856948811e+16\n",
      "epsilon = 2.220446049250313e-16\n"
     ]
    }
   ],
   "source": [
    "from numpy.linalg import solve, cond, norm, inv\n",
    "\n",
    "A = np.array([[0.1, 0.2, 0.3],\n",
    "               [0.4, 0.5, 0.6],\n",
    "               [0.7, 0.8, 0.9]])\n",
    "b = np.array([0.1, 0.3, 0.5]).T\n",
    "x = solve(A, b)\n",
    "x1, x2, x3 = x\n",
    "cond_A = norm(A) * norm(inv(A))\n",
    "\n",
    "print(f\"Computed solution: x1={x1}, x2={x2}, x3={x3}\")\n",
    "print(f\"Our description: x1={x1}, x2={1-2*x1}, x3={x1-1/3}\")\n",
    "print(f\"Relative error: x2_rel_error={abs(x2-(1-2*x1))/(1-2*x1)}, x3_rel_error={abs(x3-(x1-1/3))/(x1-1/3)}\")\n",
    "print(f\"cond(A)={cond(A)}, cond_A={cond_A}\")\n",
    "print(\"epsilon = {}\".format(sys.float_info.epsilon))"
   ]
  },
  {
   "cell_type": "markdown",
   "id": "32537b21-ef0e-4d21-83ec-630d7c6ef4ac",
   "metadata": {},
   "source": [
    "#### **Answer:**\n",
    "When $\\lambda$ takes the value of $x_1$ in computed solution, the computed solution are almost the same as our description of the solution set in part (a), with only a relative error of the order of $10^{-16}$ due to computational accuracy.\n",
    "\n",
    "The estimated value for cond(A) is $2.37588029981422\\times 10^{16}$, and the machine precision $\\epsilon_{\\text{mach}}=2.220446049250313\\times 10^{-16}$, which means $\\text{cond}(A)\\epsilon_{\\text{mach}}\\approx 0$. Therefore, we would expect no digits of accuracy in the solution in double precision arithmetic."
   ]
  },
  {
   "cell_type": "markdown",
   "id": "46c99b9d-1ab5-49ae-9fa9-805bb984e4a5",
   "metadata": {},
   "source": [
    "# Heath computer exercise 2.17"
   ]
  },
  {
   "cell_type": "markdown",
   "id": "aad5ecf6-4902-4e39-af7c-20fae6a41eb5",
   "metadata": {},
   "source": [
    "Consider a horizontal cantilevered beam that is clamped at one end but free along the remainder of its length. A discrete model of the forces on the beam yields a system of linear equations $A x = b$, where the $n \\times n$ matrix $A$ has the banded form\n",
    "$$\n",
    "\\begin{bmatrix}\n",
    " 9 & -4     &  1 &  0 & \\ldots & \\ldots & 0 \\\\\n",
    "-4 &  6     & -4 &  1 & \\ddots && \\vdots \\\\\n",
    " 1 & -4     &  6 & -4 &  1 & \\ddots & \\vdots \\\\\n",
    " 0 & \\ddots & \\ddots & \\ddots & \\ddots & \\ddots & 0 \\\\\n",
    " \\vdots & \\ddots & 1 & -4 &  6 & -4 &  1 \\\\ \n",
    " \\vdots && \\ddots    &  1 & -4 &  5 & -2 \\\\\n",
    " 0 & \\ldots & \\ldots & 0 & 1 & -2 & 1 \n",
    "\\end{bmatrix}, $$\n",
    "the $n$-vector $b$ is the known load on the bar (including its own weight), and the $n$-vector $x$ represents the resulting deflection of the bar that is to be determined. We will take the bar to be uniformly loaded, with $b_i = 1/n^4$ for each component of the load vector.\n"
   ]
  },
  {
   "cell_type": "markdown",
   "id": "0c3221df-1706-4536-9d13-900af379a450",
   "metadata": {},
   "source": [
    "## (a)\n",
    "Make a python function that creates the matrix $A$ given the size $n$."
   ]
  },
  {
   "cell_type": "code",
   "execution_count": 3,
   "id": "c9753d31-5888-4de1-8ebe-39b55f413932",
   "metadata": {},
   "outputs": [
    {
     "name": "stdout",
     "output_type": "stream",
     "text": [
      "[[ 9. -4.  1.  0.]\n",
      " [-4.  6. -4.  1.]\n",
      " [ 1. -4.  5. -2.]\n",
      " [ 0.  1. -2.  1.]]\n"
     ]
    }
   ],
   "source": [
    "def generate_dense_A(n):\n",
    "    A = np.zeros((n, n))\n",
    "\n",
    "    # Main diagonal with 6, except the first element and the last two elements\n",
    "    A[np.arange(1, n, 2), np.arange(1, n, 2)] = 1\n",
    "    A[np.arange(n), np.arange(n)] = 6\n",
    "    A[0, 0] = 9\n",
    "    A[-2, -2] = 5\n",
    "    A[-1, -1] = 1\n",
    "\n",
    "    # Upper and lower diagonals with 4, except the last elements\n",
    "    A[np.arange(n - 1), np.arange(1, n)] = -4\n",
    "    A[np.arange(1, n), np.arange(n - 1)] = -4\n",
    "    A[n - 2, n - 1] = -4  # Last element of the upper diagonal\n",
    "    A[n - 1, n - 2] = -4  # Last element of the lower diagonal\n",
    "    A[-1, -2] = -2\n",
    "    A[-2, -1] = -2\n",
    "\n",
    "    A[np.arange(n - 2), np.arange(2, n)] = 1\n",
    "    A[np.arange(2, n), np.arange(n - 2)] = 1\n",
    "\n",
    "    return A\n",
    "\n",
    "A = generate_dense_A(4)\n",
    "print(A)"
   ]
  },
  {
   "cell_type": "markdown",
   "id": "3a7511aa-c209-4803-96a4-6743b5f52626",
   "metadata": {},
   "source": [
    "## (b)\n",
    "\n",
    "Solve this linear system using both a standard library routine for dense linear systems and a library routine designed for sparse linear systems. Take $n=100$ and $n=1000$. How do the two routines compare in the time required to compute the solution? And in the memory occupied by the LU decomposition? (Hint: as part of this assignment, look for the number of nonzero elements in the matrices $L$ and $U$ of the sparse LU decomposition.)"
   ]
  },
  {
   "cell_type": "code",
   "execution_count": 104,
   "id": "7e2da1b5-74b5-4490-b590-9604040c8aba",
   "metadata": {},
   "outputs": [
    {
     "name": "stdout",
     "output_type": "stream",
     "text": [
      "n=100\n",
      "time_dense:\n",
      "1.01 ms ± 260 µs per loop (mean ± std. dev. of 7 runs, 1,000 loops each)\n",
      "time_sparse:\n",
      "73 µs ± 1.87 µs per loop (mean ± std. dev. of 7 runs, 10,000 loops each)\n",
      "memory_dense=3.0e+04, memory_sparse=691\n",
      "\n",
      "n=1000\n",
      "time_dense:\n",
      "21.7 ms ± 2.32 ms per loop (mean ± std. dev. of 7 runs, 10 loops each)\n",
      "time_sparse:\n",
      "362 µs ± 7.2 µs per loop (mean ± std. dev. of 7 runs, 1,000 loops each)\n",
      "memory_dense=3.0e+06, memory_sparse=6990\n"
     ]
    }
   ],
   "source": [
    "def compare_dense_sparse(n, ifprint = True):\n",
    "    A_dense = generate_dense_A(n)\n",
    "    b = np.full(n, 1 / n**4)\n",
    "\n",
    "    # Convert A to a sparse matrix\n",
    "    A_sparse = sp.csc_matrix(A_dense)\n",
    "    \n",
    "    if ifprint:\n",
    "        print(f\"n={n}\")\n",
    "        # Dense matrix\n",
    "        print(\"time_dense:\")\n",
    "        %timeit solve(A_dense, b)\n",
    "        m_dense = 3 * n**2\n",
    "\n",
    "        # Sparse matrix\n",
    "        print(\"time_sparse:\")\n",
    "        %timeit sp.linalg.spsolve(A_sparse, b)\n",
    "        LU = sp.linalg.splu(A_sparse)\n",
    "        m_sparse = LU.L.nnz + LU.U.nnz\n",
    "\n",
    "        # Compare the memory occupancy\n",
    "        print(\"memory_dense={:.1e}, memory_sparse={}\".format(m_dense, m_sparse))\n",
    "\n",
    "    return solve(A_dense, b), sp.linalg.spsolve(A_sparse, b)\n",
    "\n",
    "\n",
    "x_d_100, x_s_100 = compare_dense_sparse(100)\n",
    "print()\n",
    "x_d_1000, x_s_1000 = compare_dense_sparse(1000)"
   ]
  },
  {
   "cell_type": "markdown",
   "id": "9decc62c-feb5-4afb-bfba-0b8a19af5be3",
   "metadata": {},
   "source": [
    "#### **Answer:**\n",
    "We use `numpy.linalg.solve` (hereafter referred to as `solve`) for solving dense linear system, and `scipy.sparse.linalg.spsolve` (hereafter referred to as `spsolve`) for solving sparse linear system. It is found that under the same $n$, `spsolve` is much faster than `solve`. Moreover, as $n$ increases, the time required by `solve` grows super-linearly, whereas the increase for spsolve is sub-linear.\n",
    "\n",
    "In the context of estimating memory occupation during LU decomposition, distinct methods are applied to `solve` and `spsolve`. In the case of `solve`, where matrix $A$ is dense, the decomposition process involves storing three $n\\times n$ matrices in memory. Therefore, we use the total number of entries in the dense matrices $\\bm{A}$, $\\bm{L}$, and $\\bm{U}$, which amounts to $3n^2$, as an indicator of the memory used by `solve`. Conversely, for `spsolve`, where $\\bm{A}$ is a sparse matrix, only the non-zero entries are stored. Given that the number of non-zero entries in $\\bm{A}$ is considerably fewer than those in $\\bm{L}$ and $\\bm{U}$, we consider the total number of non-zero elements in $\\bm{L}$ and $\\bm{U}$ as an indicator of the memory used by `spsolve`.\n",
    "\n",
    "As the results of the code run show, `solve` takes up far less memory than `spsolve`. Moreover, as $n$ increases by a factor of 10, the memory occupied by `solve` grows by a factor of $10^2 = 100$, while the memory occupied by `solve` grows linearly."
   ]
  },
  {
   "cell_type": "markdown",
   "id": "8ebb2590-2f08-4362-aef6-f334eedbf306",
   "metadata": {},
   "source": [
    "## (c)\n",
    "For $n=100$, what is the condition number? What accuracy do you expect based on the condition number?"
   ]
  },
  {
   "cell_type": "code",
   "execution_count": 120,
   "id": "d71e4897-2b95-44de-88a0-029c89a24609",
   "metadata": {},
   "outputs": [
    {
     "name": "stdout",
     "output_type": "stream",
     "text": [
      "Condition number of the matrix: 1.31e+08\n",
      "epsilon_mach = 2.22e-16\n",
      "accuracy = cond * epsilon_mach = 2.90e-08\n"
     ]
    }
   ],
   "source": [
    "A = generate_dense_A(100)\n",
    "cond_number = np.linalg.cond(A)\n",
    "epsilon = sys.float_info.epsilon\n",
    "print(\"Condition number of the matrix: {:.2e}\".format(cond_number))\n",
    "print(\"epsilon_mach = {:.2e}\".format(epsilon))\n",
    "print(\"accuracy = cond * epsilon_mach = {:.2e}\".format(epsilon * cond_number))"
   ]
  },
  {
   "cell_type": "markdown",
   "id": "cd1fba05",
   "metadata": {},
   "source": [
    "#### **Answer:**\n",
    "The condition number is about $1.31\\times 10^{8}$. The estimated accuracy is about $2.9\\times 10^{-8}$, which means we would expect 7 digits of accuracy in the solution."
   ]
  },
  {
   "cell_type": "markdown",
   "id": "c2a94aca-a8cc-407c-9212-3b09e9bd850e",
   "metadata": {},
   "source": [
    "## (d)\n",
    "How well do the answers of (b) agree with each other (make an appropriate quantitative comparison)?\n",
    "\n",
    "Should we be worried about the fact that the two answers are different?"
   ]
  },
  {
   "cell_type": "code",
   "execution_count": 126,
   "id": "f3087de8-ee2b-45f1-a26c-06c747842835",
   "metadata": {},
   "outputs": [
    {
     "name": "stdout",
     "output_type": "stream",
     "text": [
      "(100,)\n",
      "accuracy_100=2.90e-08, diff_100_1=3.52e-11, diff_100_inf=2.91e-11\n",
      "accuracy_1000=2.88e-04, diff_1000_1=2.19e-07, diff_1000_inf=2.23e-07\n"
     ]
    }
   ],
   "source": [
    "x_d_100, x_s_100 = compare_dense_sparse(100, ifprint=False)\n",
    "x_d_1000, x_s_1000 = compare_dense_sparse(1000, ifprint=False)\n",
    "print(x_d_100.shape)\n",
    "\n",
    "A = generate_dense_A(100)\n",
    "cond_number = np.linalg.cond(A)\n",
    "accuracy_100 = cond_number * epsilon\n",
    "\n",
    "A = generate_dense_A(1000)\n",
    "cond_number = np.linalg.cond(A)\n",
    "accuracy_1000 = cond_number * epsilon\n",
    "\n",
    "diff_100_1 = norm(x_d_100 - x_s_100, ord=1) / norm(x_s_100, ord=1)\n",
    "diff_1000_1 = norm(x_d_1000 - x_s_1000, ord=1) / norm(x_s_1000, ord=1)\n",
    "\n",
    "inf = float('inf')\n",
    "diff_100_inf = norm(x_d_100 - x_s_100, ord=inf) / norm(x_s_100, ord=inf)\n",
    "diff_1000_inf = norm(x_d_1000 - x_s_1000, ord=inf) / norm(x_s_1000, ord=inf)\n",
    "\n",
    "print(\"accuracy_100={:.2e}, diff_100_1={:.2e}, diff_100_inf={:.2e}\".format(\n",
    "    accuracy_100, diff_100_1, diff_100_inf))\n",
    "print(\"accuracy_1000={:.2e}, diff_1000_1={:.2e}, diff_1000_inf={:.2e}\".format(\n",
    "    accuracy_1000, diff_1000_1, diff_1000_inf))"
   ]
  },
  {
   "cell_type": "markdown",
   "id": "02317207-3944-4be0-a8e6-29d81d007b00",
   "metadata": {},
   "source": [
    "#### **Answer:**\n",
    "The relative difference derived from both the 1-norm and infinity norm are significantly lower than the anticipated level of accuracy. Herein, the 1-norm accumulates all the differences, whereas the infinity norm focuses solely on the largest discrepancy. Consequently, these discrepancies are negligible and can be disregarded in the context of this analysis."
   ]
  }
 ],
 "metadata": {
  "kernelspec": {
   "display_name": "Python 3 (ipykernel)",
   "language": "python",
   "name": "python3"
  },
  "language_info": {
   "codemirror_mode": {
    "name": "ipython",
    "version": 3
   },
   "file_extension": ".py",
   "mimetype": "text/x-python",
   "name": "python",
   "nbconvert_exporter": "python",
   "pygments_lexer": "ipython3",
   "version": "3.10.9"
  }
 },
 "nbformat": 4,
 "nbformat_minor": 5
}
